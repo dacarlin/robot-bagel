{
 "cells": [
  {
   "cell_type": "markdown",
   "metadata": {},
   "source": [
    "[Transcriptic's documentation describing \"magnetic transfer\"](https://developers.transcriptic.com/docs/magnetic-transfer). [This video featuring a Kingfisher (bird)](https://www.youtube.com/watch?v=veQ2ilQrzMU). "
   ]
  },
  {
   "cell_type": "code",
   "execution_count": 16,
   "metadata": {
    "collapsed": true
   },
   "outputs": [],
   "source": [
    "# recipes \n",
    "\n",
    "induction_medium = ()"
   ]
  },
  {
   "cell_type": "code",
   "execution_count": 17,
   "metadata": {
    "collapsed": false,
    "scrolled": false
   },
   "outputs": [],
   "source": [
    "from autoprotocol import Protocol \n",
    "p = Protocol()\n",
    "\n",
    "# grow plate \n",
    "grow = p.ref( 'grow', cont_type='96-deep', discard=True )\n",
    "p.dispense_full_plate( grow, 'lb-broth-50ug-ml-kan', '1000:microliter' ) \n",
    "\n",
    "# we can make autoinduction medium w/ LB, 50 µg/mL kanamycin, 0.5% glycerol, 0.05% glucose, 40 µM IPTG \n",
    "# 40% glyercol rs17rrhqpsxyh2\n",
    "# 50 mg/mL (1000X) kanamycin rs17msfpgpbqyv\n",
    "# 100 mM IPTG rs18vwgfgxq597\n",
    "# Transcriptic does not currently stock glucose \n",
    "\n",
    "# source plate (glycerol stocks) \n",
    "source_plate = p.ref( 'source_plate', cont_type='96-pcr', storage='cold_80' ) \n",
    "p.stamp( source_plate, grow, '10:microliter' ) \n",
    "\n",
    "p.incubate( grow, 'warm_37', '14:hour', shaking=True )\n",
    "\n",
    "# freeze-thaw for lysis \n",
    "for i in range( 3 ):\n",
    "    p.incubate( grow, 'cold_80', '5:minute' ) \n",
    "    p.incubate( grow, 'warm_37', '5:minute' ) \n",
    "\n",
    "# spin\n",
    "p.spin( grow, '9999:meter/second^2', '30:minute' ) \n",
    "p.uncover( grow )\n",
    "\n",
    "# bind proteins \n",
    "# kingfisher insert magnetic tips w/ beads attached \n",
    "# kingfisher mix \n",
    "\n",
    "# transfer to wash plate \n",
    "# wash \n",
    "\n",
    "# transfer to elution plate\n",
    "# kingfisher mix \n",
    "# release the beads \n",
    "\n",
    "# run gel \n",
    "# take A280 "
   ]
  },
  {
   "cell_type": "code",
   "execution_count": 19,
   "metadata": {
    "collapsed": false,
    "scrolled": false
   },
   "outputs": [],
   "source": [
    "# import transcriptic\n",
    "\n",
    "# transcriptic.Connection.from_file( '/Users/alex/.transcriptic' ) \n",
    "# analysis = transcriptic.analyze( p ) \n",
    "\n",
    "# import pprint as pp \n",
    "# pp.pprint( analysis ) "
   ]
  },
  {
   "cell_type": "code",
   "execution_count": null,
   "metadata": {
    "collapsed": true
   },
   "outputs": [],
   "source": []
  }
 ],
 "metadata": {
  "anaconda-cloud": {},
  "kernelspec": {
   "display_name": "Python [conda root]",
   "language": "python",
   "name": "conda-root-py"
  },
  "language_info": {
   "codemirror_mode": {
    "name": "ipython",
    "version": 3
   },
   "file_extension": ".py",
   "mimetype": "text/x-python",
   "name": "python",
   "nbconvert_exporter": "python",
   "pygments_lexer": "ipython3",
   "version": "3.5.2"
  }
 },
 "nbformat": 4,
 "nbformat_minor": 0
}
