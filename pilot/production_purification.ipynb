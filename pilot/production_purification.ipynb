{
 "cells": [
  {
   "cell_type": "code",
   "execution_count": 46,
   "metadata": {
    "collapsed": false,
    "scrolled": false
   },
   "outputs": [],
   "source": [
    "from autoprotocol import Protocol \n",
    "p = Protocol()\n",
    "\n",
    "# grow plate \n",
    "grow = p.ref( 'grow', cont_type='96-deep-kf', discard=True )\n",
    "p.dispense_full_plate( grow, 'lb-broth-50ug-ml-kan', '1000:microliter' ) # needs autoinduction media\n",
    "p.provision( 'rs18vwgfgxq597', grow.all_wells(), '10:microliter' ) \n",
    "\n",
    "# source plate ( glycerol stocks ) \n",
    "source_plate = p.ref( 'source_plate', cont_type='96-pcr', storage='cold_80' ) # glycerol stocks\n",
    "p.stamp( source_plate, grow, '10:microliter' ) \n",
    "\n",
    "# grow replicates of clones from the sequencing results \n",
    "# take time points of growth for QC \n",
    "# p.cover( grow ) \n",
    "# for time_point in range( 4 ): \n",
    "#     p.incubate( grow, 'warm_37', '4:hour', shaking=True )\n",
    "#     p.uncover( grow )\n",
    "#     p.absorbance( grow, grow.all_wells(), '600:nanometer', 'growth_read_{}'.format( time_point ) )\n",
    "#     p.cover( grow )\n",
    "    \n",
    "# freeze-thaw these motherfuckers \n",
    "p.incubate( grow, 'cold_80', '20:minute' ) \n",
    "p.incubate( grow, 'warm_37', '10:minute' ) \n",
    "p.incubate( grow, 'cold_80', '20:minute' ) \n",
    "p.incubate( grow, 'warm_37', '10:minute' ) \n",
    "p.incubate( grow, 'cold_80', '20:minute' ) \n",
    "p.incubate( grow, 'warm_37', '10:minute' ) \n",
    "\n",
    "# add beads \n",
    "p.provision( 'rs18umvxjtubpw', grow.all_wells(), '25:microliter' ) #magjet rna beads\n",
    "p.mag_mix( '96-deep', grow, '1:minute', '1:hertz',  center=0.5, amplitude=0.5, magnetize=False, temperature=None, new_tip=False, new_instruction=False)\n",
    "p.mag_dry?\n",
    "\n",
    "# # pellet, remove supernatant, resuspend, lyse, clarify\n",
    "# p.spin( grow, '9999:meter/second^2', '10:minute' ) # 4700 RPM \n",
    "# p.uncover( grow )\n",
    "# p.stamp( grow, trash, '900:microliter' ) # will need to carefully set pipet tip height \n",
    "# p.dispense_full_plate( grow, 'pbs', '50:microliter' )\n",
    "# p.mix( grow.all_wells(), volume='50:microliter', speed='100:microliter/second', repetitions=10) #vortexing is much better\n",
    "# p.stamp( lysis_buffer, grow, '100:microliter' )\n",
    "# p.cover( grow )\n",
    "# p.incubate( grow, 'cold_4', '30:minute', shaking=True ) # we gently rock the plate at ambient temp in our lab. Possible? p.rock()?\n",
    "# p.spin( grow, '9999999:meter/second^2', '30:minute' ) # as fast as possible!\n",
    "# p.uncover( grow )\n",
    "# p.stamp( grow, columns, '200:microliter' ) # again, need to set pipet height to get only supernatant (OK to leave half!!!)\n",
    "\n",
    "# # purification procedure\n",
    "# for repeat in range( 5 ):\n",
    "#     p.stamp( wash_buffer, columns, '300:microliter' )\n",
    "#     p.incubate( columns, 'ambient', '1:minute' )\n",
    "\n",
    "# p.stamp( elution_buffer, columns, '100:microliter' )\n",
    "# p.incubate( columns, 'ambient', '1:minute' )\n",
    "# p.stamp( elution_buffer, columns, '100:microliter' )\n",
    "# p.incubate( columns, 'ambient', '1:minute' )\n",
    "# # put columns in `elutate` \n",
    "# p.spin( elutate, '9:meter/second^2', '1:minute' ) # slowly! \n",
    "\n",
    "# p.absorbance( elutate, elutate.all_wells(), '260:nanometer', 'A260' )\n",
    "# p.absorbance( elutate, elutate.all_wells(), '280:nanometer', 'A280' )\n",
    "# # will also want to run SDS-PAGE \n",
    "\n",
    "# # on to the assay! "
   ]
  },
  {
   "cell_type": "code",
   "execution_count": 43,
   "metadata": {
    "collapsed": false,
    "scrolled": false
   },
   "outputs": [
    {
     "name": "stdout",
     "output_type": "stream",
     "text": [
      "{'breakdown': {'name': 'Total', 'total': '332.955', 'children': [{'name': 'Containers', 'total': '9.472', 'children': [{'taxable': True, 'name': \"Ref 'source_plate' (96-pcr)\", 'total': '2.963', 'run_credit_applicable': False}, {'taxable': True, 'name': \"Ref 'grow' (96-deep-kf)\", 'total': '6.509', 'run_credit_applicable': False}]}, {'name': 'Provisioned Reagents', 'total': '272.245', 'children': [{'taxable': True, 'name': 'IPTG 100mM (kit18vwgnxnga25) x 0.64', 'total': '59.405', 'run_credit_applicable': False}, {'taxable': True, 'name': 'MagJETRNAExtraction 96 Rxn (kit18umwkf2pym3) x 0.571428571428571429', 'total': '212.84', 'run_credit_applicable': False}]}, {'name': 'Instructions', 'total': '51.238', 'children': [{'name': 'Instruction 0: dispense', 'total': '1.955', 'children': [{'taxable': True, 'name': 'Reagent Dispenser', 'total': '1.955', 'run_credit_applicable': True}]}, {'name': 'Instruction 1: provision', 'total': '19.68', 'children': [{'name': 'Liquid Handling', 'total': '19.68', 'children': [{'taxable': True, 'name': 'Disposable Tips', 'total': '10.944', 'run_credit_applicable': False}, {'taxable': True, 'name': 'Pipetting', 'total': '8.736', 'run_credit_applicable': True}]}]}, {'name': 'Instruction 2: stamp', 'total': '6.144', 'children': [{'name': 'Stamping', 'total': '6.144', 'children': [{'taxable': True, 'name': 'Disposable Tips', 'total': '6.144', 'run_credit_applicable': False}, {'taxable': True, 'name': 'Stamping Device Time', 'total': '0.0', 'run_credit_applicable': True}]}]}, {'name': 'Instruction 3: cover', 'total': '1.404', 'children': [{'name': 'Lidding', 'total': '1.404', 'children': [{'taxable': True, 'name': 'Lidding Device Time', 'total': '0.5', 'run_credit_applicable': True}, {'taxable': True, 'name': 'Standard Lid Cost', 'total': '0.904', 'run_credit_applicable': False}]}]}, {'name': 'Instruction 4: incubate', 'total': '0.417', 'children': [{'taxable': True, 'name': 'Incubation Time', 'total': '0.417', 'run_credit_applicable': True}]}, {'name': 'Instruction 5: incubate', 'total': '0.208', 'children': [{'taxable': True, 'name': 'Incubation Time', 'total': '0.208', 'run_credit_applicable': True}]}, {'name': 'Instruction 6: incubate', 'total': '0.417', 'children': [{'taxable': True, 'name': 'Incubation Time', 'total': '0.417', 'run_credit_applicable': True}]}, {'name': 'Instruction 7: incubate', 'total': '0.208', 'children': [{'taxable': True, 'name': 'Incubation Time', 'total': '0.208', 'run_credit_applicable': True}]}, {'name': 'Instruction 8: incubate', 'total': '0.417', 'children': [{'taxable': True, 'name': 'Incubation Time', 'total': '0.417', 'run_credit_applicable': True}]}, {'name': 'Instruction 9: incubate', 'total': '0.208', 'children': [{'taxable': True, 'name': 'Incubation Time', 'total': '0.208', 'run_credit_applicable': True}]}, {'name': 'Instruction 10: uncover', 'total': '0.5', 'children': [{'taxable': True, 'name': 'Delidding Device Time', 'total': '0.5', 'run_credit_applicable': True}]}, {'name': 'Instruction 11: provision', 'total': '19.68', 'children': [{'name': 'Liquid Handling', 'total': '19.68', 'children': [{'taxable': True, 'name': 'Disposable Tips', 'total': '10.944', 'run_credit_applicable': False}, {'taxable': True, 'name': 'Pipetting', 'total': '8.736', 'run_credit_applicable': True}]}]}]}]}, 'items': [{'run_credit_applicable': True, 'cost': '22.3', 'title': 'Workcell Time', 'run_id': None, 'quantity': 1}, {'run_credit_applicable': False, 'cost': '310.65', 'title': 'Reagents & Consumables', 'run_id': None, 'quantity': 1}]}\n"
     ]
    }
   ],
   "source": [
    "import transcriptic\n",
    "transcriptic.Connection.from_file( '/Users/alex/.transcriptic' ) \n",
    "analysis = transcriptic.analyze( p ) \n",
    "\n",
    "print( analysis[ 'quote' ] ) "
   ]
  },
  {
   "cell_type": "code",
   "execution_count": null,
   "metadata": {
    "collapsed": true
   },
   "outputs": [],
   "source": []
  }
 ],
 "metadata": {
  "anaconda-cloud": {},
  "kernelspec": {
   "display_name": "Python [conda root]",
   "language": "python",
   "name": "conda-root-py"
  },
  "language_info": {
   "codemirror_mode": {
    "name": "ipython",
    "version": 3
   },
   "file_extension": ".py",
   "mimetype": "text/x-python",
   "name": "python",
   "nbconvert_exporter": "python",
   "pygments_lexer": "ipython3",
   "version": "3.5.2"
  }
 },
 "nbformat": 4,
 "nbformat_minor": 0
}
